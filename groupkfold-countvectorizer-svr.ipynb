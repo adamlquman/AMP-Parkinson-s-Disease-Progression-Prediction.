{
 "cells": [
  {
   "cell_type": "markdown",
   "id": "231ea1a8",
   "metadata": {
    "papermill": {
     "duration": 0.008651,
     "end_time": "2023-05-18T00:01:46.061354",
     "exception": false,
     "start_time": "2023-05-18T00:01:46.052703",
     "status": "completed"
    },
    "tags": []
   },
   "source": [
    "# Import modules"
   ]
  },
  {
   "cell_type": "code",
   "execution_count": 1,
   "id": "5f798f3c",
   "metadata": {
    "execution": {
     "iopub.execute_input": "2023-05-18T00:01:46.080945Z",
     "iopub.status.busy": "2023-05-18T00:01:46.080488Z",
     "iopub.status.idle": "2023-05-18T00:01:48.095068Z",
     "shell.execute_reply": "2023-05-18T00:01:48.093825Z"
    },
    "papermill": {
     "duration": 2.027668,
     "end_time": "2023-05-18T00:01:48.097961",
     "exception": false,
     "start_time": "2023-05-18T00:01:46.070293",
     "status": "completed"
    },
    "tags": []
   },
   "outputs": [
    {
     "name": "stderr",
     "output_type": "stream",
     "text": [
      "/opt/conda/lib/python3.10/site-packages/scipy/__init__.py:146: UserWarning: A NumPy version >=1.16.5 and <1.23.0 is required for this version of SciPy (detected version 1.23.5\n",
      "  warnings.warn(f\"A NumPy version >={np_minversion} and <{np_maxversion}\"\n"
     ]
    }
   ],
   "source": [
    "import matplotlib.pyplot as plt\n",
    "import pandas as pd\n",
    "import numpy as np\n",
    "import seaborn as sns\n",
    "import math\n",
    "from sklearn.metrics import mean_squared_error\n",
    "from sklearn.model_selection import GroupKFold\n",
    "from sklearn.svm import SVR\n",
    "from sklearn.preprocessing import MinMaxScaler\n",
    "from functools import partial\n",
    "from scipy.optimize import minimize\n",
    "from collections import defaultdict\n",
    "import warnings\n",
    "warnings.simplefilter(action='ignore')"
   ]
  },
  {
   "cell_type": "code",
   "execution_count": 2,
   "id": "6a74a525",
   "metadata": {
    "execution": {
     "iopub.execute_input": "2023-05-18T00:01:48.117224Z",
     "iopub.status.busy": "2023-05-18T00:01:48.115855Z",
     "iopub.status.idle": "2023-05-18T00:01:48.121944Z",
     "shell.execute_reply": "2023-05-18T00:01:48.121087Z"
    },
    "papermill": {
     "duration": 0.017853,
     "end_time": "2023-05-18T00:01:48.124143",
     "exception": false,
     "start_time": "2023-05-18T00:01:48.106290",
     "status": "completed"
    },
    "tags": []
   },
   "outputs": [],
   "source": [
    "def smape(y_true, y_pred):\n",
    "\n",
    "    y_true = y_true + 1\n",
    "    y_pred = y_pred + 1\n",
    "    \n",
    "    return 100/len(y_true) * np.sum(2 * np.abs(y_pred - y_true) / (np.abs(y_true) + np.abs(y_pred)))"
   ]
  },
  {
   "cell_type": "code",
   "execution_count": 3,
   "id": "5a6c0088",
   "metadata": {
    "execution": {
     "iopub.execute_input": "2023-05-18T00:01:48.143024Z",
     "iopub.status.busy": "2023-05-18T00:01:48.142434Z",
     "iopub.status.idle": "2023-05-18T00:01:48.149339Z",
     "shell.execute_reply": "2023-05-18T00:01:48.147861Z"
    },
    "papermill": {
     "duration": 0.020027,
     "end_time": "2023-05-18T00:01:48.152323",
     "exception": false,
     "start_time": "2023-05-18T00:01:48.132296",
     "status": "completed"
    },
    "tags": []
   },
   "outputs": [],
   "source": [
    "def smape_plus_1(y_true, y_pred):\n",
    "    y_true_plus_1 = y_true + 1\n",
    "    y_pred_plus_1 = y_pred + 1\n",
    "    metric = np.zeros(len(y_true_plus_1))\n",
    "    \n",
    "    numerator = np.abs(y_true_plus_1 - y_pred_plus_1)\n",
    "    denominator = ((np.abs(y_true_plus_1) + np.abs(y_pred_plus_1)) / 2)\n",
    "    \n",
    "    mask_not_zeros = (y_true_plus_1 != 0) | (y_pred_plus_1 != 0)\n",
    "    metric[mask_not_zeros] = numerator[mask_not_zeros] / denominator[mask_not_zeros]\n",
    "    \n",
    "    return 100 * np.nanmean(metric)"
   ]
  },
  {
   "cell_type": "markdown",
   "id": "fd85d694",
   "metadata": {
    "papermill": {
     "duration": 0.007883,
     "end_time": "2023-05-18T00:01:48.168436",
     "exception": false,
     "start_time": "2023-05-18T00:01:48.160553",
     "status": "completed"
    },
    "tags": []
   },
   "source": [
    "# Reading Data"
   ]
  },
  {
   "cell_type": "code",
   "execution_count": 4,
   "id": "a89acd99",
   "metadata": {
    "execution": {
     "iopub.execute_input": "2023-05-18T00:01:48.187294Z",
     "iopub.status.busy": "2023-05-18T00:01:48.186658Z",
     "iopub.status.idle": "2023-05-18T00:01:48.734769Z",
     "shell.execute_reply": "2023-05-18T00:01:48.733608Z"
    },
    "papermill": {
     "duration": 0.56078,
     "end_time": "2023-05-18T00:01:48.737716",
     "exception": false,
     "start_time": "2023-05-18T00:01:48.176936",
     "status": "completed"
    },
    "tags": []
   },
   "outputs": [],
   "source": [
    "# Load a dataset into a Pandas DataFrame\n",
    "train_clinical = pd.read_csv('/kaggle/input/amp-parkinsons-disease-progression-prediction/train_clinical_data.csv')\n",
    "proteins = pd.read_csv('/kaggle/input/amp-parkinsons-disease-progression-prediction/train_proteins.csv')\n",
    "proteins_features = pd.pivot_table(proteins, values='NPX', index='visit_id', columns='UniProt', aggfunc='sum')\n",
    "train_clinical = train_clinical[~train_clinical.visit_month.isin([3,5,9])].copy()\n",
    "\n",
    "train_clinical = train_clinical.merge(\n",
    "    proteins_features,\n",
    "    left_on='visit_id',\n",
    "    right_index=True,\n",
    "    how='left'\n",
    ")"
   ]
  },
  {
   "cell_type": "code",
   "execution_count": 5,
   "id": "93082ce5",
   "metadata": {
    "execution": {
     "iopub.execute_input": "2023-05-18T00:01:48.756752Z",
     "iopub.status.busy": "2023-05-18T00:01:48.755612Z",
     "iopub.status.idle": "2023-05-18T00:01:49.380914Z",
     "shell.execute_reply": "2023-05-18T00:01:49.379452Z"
    },
    "papermill": {
     "duration": 0.638127,
     "end_time": "2023-05-18T00:01:49.384050",
     "exception": false,
     "start_time": "2023-05-18T00:01:48.745923",
     "status": "completed"
    },
    "tags": []
   },
   "outputs": [],
   "source": [
    "# Filling missing values of NPX\n",
    "train_clinical[proteins_features.columns] = train_clinical.groupby('patient_id')[proteins_features.columns].\\\n",
    "                                                    fillna(train_clinical.groupby('patient_id')[proteins_features.columns].transform('mean'))"
   ]
  },
  {
   "cell_type": "code",
   "execution_count": 6,
   "id": "e8ee585e",
   "metadata": {
    "execution": {
     "iopub.execute_input": "2023-05-18T00:01:49.403314Z",
     "iopub.status.busy": "2023-05-18T00:01:49.402247Z",
     "iopub.status.idle": "2023-05-18T00:01:49.460942Z",
     "shell.execute_reply": "2023-05-18T00:01:49.459759Z"
    },
    "papermill": {
     "duration": 0.071416,
     "end_time": "2023-05-18T00:01:49.463850",
     "exception": false,
     "start_time": "2023-05-18T00:01:49.392434",
     "status": "completed"
    },
    "tags": []
   },
   "outputs": [],
   "source": [
    "train_clinical['pred_month'] = train_clinical['visit_month']\n",
    "\n",
    "for plus_month in [6, 12, 24]:\n",
    "    train_shift = train_clinical[['patient_id', 'visit_month', 'pred_month', 'updrs_1', 'updrs_2', 'updrs_3', 'updrs_4']].copy()\n",
    "    train_shift['visit_month'] -= plus_month\n",
    "    train_shift.rename(columns={f'updrs_{i}': f'updrs_{i}_plus_{plus_month}' for i in range(1, 5)}, inplace=True)\n",
    "    train_shift.rename(columns={'pred_month': f'pred_month_plus_{plus_month}'}, inplace=True)\n",
    "    train_clinical = train_clinical.merge(train_shift, how='left', on=['patient_id', 'visit_month'])\n",
    "\n",
    "train_clinical.rename(columns={f'updrs_{i}': f'updrs_{i}_plus_0' for i in range(1, 5)}, inplace=True)\n",
    "train_clinical.rename(columns={'pred_month': f'pred_month_plus_0'}, inplace=True)"
   ]
  },
  {
   "cell_type": "markdown",
   "id": "cd3b1984",
   "metadata": {
    "papermill": {
     "duration": 0.007892,
     "end_time": "2023-05-18T00:01:49.480120",
     "exception": false,
     "start_time": "2023-05-18T00:01:49.472228",
     "status": "completed"
    },
    "tags": []
   },
   "source": [
    "# Training"
   ]
  },
  {
   "cell_type": "code",
   "execution_count": 7,
   "id": "346f6412",
   "metadata": {
    "execution": {
     "iopub.execute_input": "2023-05-18T00:01:49.499028Z",
     "iopub.status.busy": "2023-05-18T00:01:49.498578Z",
     "iopub.status.idle": "2023-05-18T00:01:49.507059Z",
     "shell.execute_reply": "2023-05-18T00:01:49.505632Z"
    },
    "papermill": {
     "duration": 0.022456,
     "end_time": "2023-05-18T00:01:49.510722",
     "exception": false,
     "start_time": "2023-05-18T00:01:49.488266",
     "status": "completed"
    },
    "tags": []
   },
   "outputs": [],
   "source": [
    "def calculate_predictions(pred_month, trend, target):\n",
    "    if target == 'updrs_4': pred_month = pred_month.clip(54, None)\n",
    "    if len(trend) == 2:\n",
    "        return np.round(trend[0] + pred_month * trend[1]) # linear prediction\n",
    "    return np.round(trend[0] + pred_month * trend[1] + np.square(pred_month) * trend[2]) # quadratic prediction\n",
    "\n",
    "\n",
    "def calculate_predicitons_protein(protein, pred_month, protein_shift):\n",
    "    trend_pred_month = target_to_trend[u]\n",
    "    pred_month_trend = calculate_predictions(pred_month=pred_month, trend=trend_pred_month, target=target)\n",
    "    return np.round(pred_month_trend + protein_shift)"
   ]
  },
  {
   "cell_type": "code",
   "execution_count": 8,
   "id": "f07df827",
   "metadata": {
    "execution": {
     "iopub.execute_input": "2023-05-18T00:01:49.529470Z",
     "iopub.status.busy": "2023-05-18T00:01:49.529050Z",
     "iopub.status.idle": "2023-05-18T00:01:49.536692Z",
     "shell.execute_reply": "2023-05-18T00:01:49.535392Z"
    },
    "papermill": {
     "duration": 0.020324,
     "end_time": "2023-05-18T00:01:49.539423",
     "exception": false,
     "start_time": "2023-05-18T00:01:49.519099",
     "status": "completed"
    },
    "tags": []
   },
   "outputs": [],
   "source": [
    "def function_to_minimize_model(x, y_true_array_tr, pred_month_array_tr):    \n",
    "    metric = smape_plus_1(\n",
    "        y_true=y_true_array_tr, \n",
    "        y_pred=calculate_predictions(\n",
    "            pred_month=pred_month_array_tr,\n",
    "            trend=x,\n",
    "            target=target\n",
    "        )\n",
    "    )\n",
    "    return metric\n",
    "\n",
    "def function_to_minimize(x):\n",
    "    metric = smape_plus_1(\n",
    "        y_true=y_true_array, \n",
    "        y_pred=calculate_predicitons_protein(\n",
    "            protein=protein_array,\n",
    "            pred_month=pred_month_array,\n",
    "            protein_shift=x[0]\n",
    "        )\n",
    "    )\n",
    "    return metric"
   ]
  },
  {
   "cell_type": "code",
   "execution_count": 9,
   "id": "4cf8290d",
   "metadata": {
    "execution": {
     "iopub.execute_input": "2023-05-18T00:01:49.558125Z",
     "iopub.status.busy": "2023-05-18T00:01:49.557501Z",
     "iopub.status.idle": "2023-05-18T00:01:49.566610Z",
     "shell.execute_reply": "2023-05-18T00:01:49.565190Z"
    },
    "papermill": {
     "duration": 0.021491,
     "end_time": "2023-05-18T00:01:49.569093",
     "exception": false,
     "start_time": "2023-05-18T00:01:49.547602",
     "status": "completed"
    },
    "tags": []
   },
   "outputs": [],
   "source": [
    "# To find Best Shift for NPX\n",
    "def find_best_const(train_clinical_all_filtered, target):\n",
    "    columns_with_target = [f'{target}_plus_{plus_month}' for plus_month in [0, 6, 12, 24]]\n",
    "    columns_with_pred_month = [f'pred_month_plus_{plus_month}' for plus_month in [0, 6, 12, 24]]\n",
    "    global y_true_array\n",
    "    global pred_month_array\n",
    "    global protein_array\n",
    "    y_true_array = train_clinical_all_filtered[columns_with_target].values.ravel()\n",
    "    pred_month_array = train_clinical_all_filtered[columns_with_pred_month].values.ravel()\n",
    "    protein_array = np.concatenate([train_clinical_all_filtered[feature].values] * 4)\n",
    "    result = minimize(\n",
    "        fun=function_to_minimize,\n",
    "        x0=[0.0],\n",
    "        method='Powell'\n",
    "    ).x[0]\n",
    "    return result"
   ]
  },
  {
   "cell_type": "code",
   "execution_count": 10,
   "id": "0bc832b9",
   "metadata": {
    "execution": {
     "iopub.execute_input": "2023-05-18T00:01:49.587349Z",
     "iopub.status.busy": "2023-05-18T00:01:49.586965Z",
     "iopub.status.idle": "2023-05-18T00:01:49.593815Z",
     "shell.execute_reply": "2023-05-18T00:01:49.592466Z"
    },
    "papermill": {
     "duration": 0.019258,
     "end_time": "2023-05-18T00:01:49.596502",
     "exception": false,
     "start_time": "2023-05-18T00:01:49.577244",
     "status": "completed"
    },
    "tags": []
   },
   "outputs": [],
   "source": [
    "def model(y_true_array_tr, pred_month_array_tr):\n",
    "    \"\"\"Fits a linear or quadratic model to the given data\"\"\"\n",
    "    return list(minimize(\n",
    "        fun=partial(function_to_minimize_model,\n",
    "                    y_true_array_tr=y_true_array_tr,\n",
    "                    pred_month_array_tr=pred_month_array_tr\n",
    "                   ),\n",
    "        # if x0 has two elements, the predictions will be linear\n",
    "        # if x0 has three elements, the predictions will be quadratic\n",
    "#         x0=[0, 0] if target != 'updrs_2' else [0,0],\n",
    "        x0=[0, 0],\n",
    "        method='Powell'\n",
    "    ).x)"
   ]
  },
  {
   "cell_type": "code",
   "execution_count": 11,
   "id": "e641bec5",
   "metadata": {
    "execution": {
     "iopub.execute_input": "2023-05-18T00:01:49.615002Z",
     "iopub.status.busy": "2023-05-18T00:01:49.614601Z",
     "iopub.status.idle": "2023-05-18T00:01:49.624855Z",
     "shell.execute_reply": "2023-05-18T00:01:49.623724Z"
    },
    "papermill": {
     "duration": 0.023054,
     "end_time": "2023-05-18T00:01:49.627865",
     "exception": false,
     "start_time": "2023-05-18T00:01:49.604811",
     "status": "completed"
    },
    "tags": []
   },
   "outputs": [],
   "source": [
    "# feature = 'Q9UNU6'\n",
    "npx_groups = [\n",
    "    {'quantile_low': 0.0, 'quantile_high': 0.05},\n",
    "    {'quantile_low': 0.05, 'quantile_high': 0.95},\n",
    "    {'quantile_low': 0.95, 'quantile_high': 1.0},\n",
    "]\n",
    "def get_shifts(data):\n",
    "    target_to_npx_groups_shift = defaultdict(list)\n",
    "    for target in ['updrs_1', 'updrs_2', 'updrs_3']:\n",
    "        for npx_group in npx_groups:\n",
    "            item = npx_group.copy()\n",
    "            item['feature'] = feature\n",
    "\n",
    "            if item['quantile_low'] == 0:\n",
    "                item['quantile_low_value'] = -np.inf\n",
    "            else:\n",
    "                item['quantile_low_value'] = data[feature].quantile(item['quantile_low'])\n",
    "\n",
    "            if item['quantile_high'] == 1:\n",
    "                item['quantile_high_value'] = np.inf\n",
    "            else: \n",
    "                item['quantile_high_value'] = data[feature].quantile(item['quantile_high'])\n",
    "\n",
    "            data = data[\n",
    "                (data[feature] >= item['quantile_low_value'])\n",
    "                & (data[feature] < item['quantile_high_value'])\n",
    "            ]\n",
    "\n",
    "            item['shift'] = find_best_const(data, target)\n",
    "            target_to_npx_groups_shift[target].append(item)\n",
    "    return target_to_npx_groups_shift\n"
   ]
  },
  {
   "cell_type": "markdown",
   "id": "93c633e8",
   "metadata": {
    "papermill": {
     "duration": 0.007849,
     "end_time": "2023-05-18T00:01:49.644349",
     "exception": false,
     "start_time": "2023-05-18T00:01:49.636500",
     "status": "completed"
    },
    "tags": []
   },
   "source": [
    "# Validation"
   ]
  },
  {
   "cell_type": "code",
   "execution_count": 12,
   "id": "5b2fbd66",
   "metadata": {
    "execution": {
     "iopub.execute_input": "2023-05-18T00:01:49.662961Z",
     "iopub.status.busy": "2023-05-18T00:01:49.662575Z",
     "iopub.status.idle": "2023-05-18T00:02:23.171477Z",
     "shell.execute_reply": "2023-05-18T00:02:23.170071Z"
    },
    "papermill": {
     "duration": 33.529564,
     "end_time": "2023-05-18T00:02:23.182203",
     "exception": false,
     "start_time": "2023-05-18T00:01:49.652639",
     "status": "completed"
    },
    "tags": []
   },
   "outputs": [
    {
     "name": "stdout",
     "output_type": "stream",
     "text": [
      "updrs_4 :\n",
      "Mean: 50.482361114306215 \n",
      "STD:  12.391242490479586 \n",
      "\n",
      "updrs_3 :\n",
      "Mean: 68.30175241859689 \n",
      "STD:  6.45304860151447 \n",
      "\n",
      "updrs_2 :\n",
      "Mean: 70.9263346726284 \n",
      "STD:  2.0353709337444736 \n",
      "\n",
      "updrs_1 :\n",
      "Mean: 54.555168524621344 \n",
      "STD:  5.349233761491058 \n",
      "\n"
     ]
    }
   ],
   "source": [
    "target = ['updrs_4','updrs_3','updrs_2','updrs_1']\n",
    "FEATURES = ['visit_month']\n",
    "smapes = []\n",
    "\n",
    "for u in target:\n",
    "    print(u,':')\n",
    "    \n",
    "    scores = [] \n",
    "    columns_with_target = [f'{u}_plus_{plus_month}' for plus_month in [0, 6, 12, 24]]\n",
    "    columns_with_pred_month = [f'pred_month_plus_{plus_month}' for plus_month in [0, 6, 12, 24]]\n",
    "    \n",
    "    for train_index, test_index in GroupKFold(n_splits=5).split(train_clinical, groups=train_clinical['patient_id']):\n",
    "        \n",
    "        # The model\n",
    "        y_true_array_tr = train_clinical.iloc[train_index][columns_with_target].values.ravel()\n",
    "        pred_month_array_tr = train_clinical.iloc[train_index][columns_with_pred_month].values.ravel()\n",
    "\n",
    "        trend = model(y_true_array_tr, pred_month_array_tr)\n",
    "\n",
    "        y_true_array_va = train_clinical.iloc[test_index][columns_with_target].values.ravel()\n",
    "        pred_month_array_va = train_clinical.iloc[test_index][columns_with_pred_month].values.ravel()\n",
    "        \n",
    "        y_pred = pd.Series(calculate_predictions(pred_month_array_va, trend, u))\n",
    "        \n",
    "        \n",
    "        # The Shifting\n",
    "        for feature in ['Q9UNU6','P54289','P16152','P14174','P08133','P01877','P01608',\n",
    "                        'P00736','P01031','P01717','P01833','P01861','P02652','P02679',\n",
    "                        'P02749','P02765','P02766','P04433','P05408','P08133','P20933']:\n",
    "            target_to_trend = {}\n",
    "            target_to_trend[u] = trend\n",
    "            target_to_npx_groups_shift = get_shifts(train_clinical.loc[train_index,:])\n",
    "            for item in target_to_npx_groups_shift[u]:\n",
    "                feature = item['feature']\n",
    "                mask_feature_range = (\n",
    "                    (train_clinical[feature] >= item['quantile_low_value'])\n",
    "                    & (train_clinical[feature] < item['quantile_high_value'])\n",
    "                )\n",
    "                y_pred.loc[mask_feature_range] += item['shift'] / 21\n",
    "        \n",
    "        \n",
    "        score = smape_plus_1(y_true_array_va, np.round(y_pred.values))\n",
    "        scores.append(score)\n",
    "#         print(scores[-1])           \n",
    "    \n",
    "    \n",
    "    print(\"Mean:\",np.mean(scores),\"\\nSTD: \", np.std(scores),'\\n')\n",
    "    smapes.append(np.mean(scores))\n",
    "\n",
    "\n",
    "\n",
    "# updrs_4 :\n",
    "# Mean: 49.486072107273785 \n",
    "# STD:  11.924699408010685 \n",
    "\n",
    "# updrs_3 :\n",
    "# Mean: 67.72529162773566 \n",
    "# STD:  6.392222675072084 \n",
    "\n",
    "# updrs_2 :\n",
    "# Mean: 70.97234993332395 \n",
    "# STD:  2.1967032826089397 \n",
    "\n",
    "# updrs_1 :\n",
    "# Mean: 54.46640125576296 \n",
    "# STD:  5.219863520315581 "
   ]
  },
  {
   "cell_type": "code",
   "execution_count": 13,
   "id": "7dea58c8",
   "metadata": {
    "execution": {
     "iopub.execute_input": "2023-05-18T00:02:23.201943Z",
     "iopub.status.busy": "2023-05-18T00:02:23.201477Z",
     "iopub.status.idle": "2023-05-18T00:02:23.208321Z",
     "shell.execute_reply": "2023-05-18T00:02:23.206884Z"
    },
    "papermill": {
     "duration": 0.020899,
     "end_time": "2023-05-18T00:02:23.211726",
     "exception": false,
     "start_time": "2023-05-18T00:02:23.190827",
     "status": "completed"
    },
    "tags": []
   },
   "outputs": [
    {
     "name": "stdout",
     "output_type": "stream",
     "text": [
      "Average for the 4 targets: 61.066404182538214\n"
     ]
    }
   ],
   "source": [
    "print(f'Average for the 4 targets: {np.mean(smapes)}')\n",
    "# No shift: 61.229836793527554\n",
    "# Mean + Shift: 62.7248326879205\n",
    "# Mean + Top 7: 61.026151387996784\n",
    "# Mean + Top 21: 61.01899590753103\n",
    "# Mean + Top 21 + Weight 15 + No updrs_3: 60.99082925276876\n",
    "# Mean + Top 21 + quadratic for all except 4: 60.66252873102408"
   ]
  },
  {
   "cell_type": "markdown",
   "id": "45092bbe",
   "metadata": {
    "papermill": {
     "duration": 0.008519,
     "end_time": "2023-05-18T00:02:23.229025",
     "exception": false,
     "start_time": "2023-05-18T00:02:23.220506",
     "status": "completed"
    },
    "tags": []
   },
   "source": [
    "# Training For All Data"
   ]
  },
  {
   "cell_type": "code",
   "execution_count": 14,
   "id": "cc8e1db2",
   "metadata": {
    "execution": {
     "iopub.execute_input": "2023-05-18T00:02:23.249048Z",
     "iopub.status.busy": "2023-05-18T00:02:23.248656Z",
     "iopub.status.idle": "2023-05-18T00:02:23.254340Z",
     "shell.execute_reply": "2023-05-18T00:02:23.252998Z"
    },
    "papermill": {
     "duration": 0.018786,
     "end_time": "2023-05-18T00:02:23.257075",
     "exception": false,
     "start_time": "2023-05-18T00:02:23.238289",
     "status": "completed"
    },
    "tags": []
   },
   "outputs": [],
   "source": [
    "# # Retrain with full data\n",
    "# target_to_trend = {}\n",
    "# for i in range(1, 5):\n",
    "#     target = f'updrs_{i}'\n",
    "#     columns_with_target = [f'{target}_plus_{plus_month}' for plus_month in [0, 6, 12, 24]]\n",
    "#     columns_with_pred_month = [f'pred_month_plus_{plus_month}' for plus_month in [0, 6, 12, 24]]\n",
    "#     y_true_array = train_clinical[columns_with_target].values.ravel()\n",
    "#     pred_month_array = train_clinical[columns_with_pred_month].values.ravel()\n",
    "#     trend = model(y_true_array, pred_month_array)\n",
    "#     target_to_trend[target] = trend\n",
    "# display(target_to_trend)\n",
    "\n"
   ]
  },
  {
   "cell_type": "markdown",
   "id": "ac018b39",
   "metadata": {
    "papermill": {
     "duration": 0.00855,
     "end_time": "2023-05-18T00:02:23.274390",
     "exception": false,
     "start_time": "2023-05-18T00:02:23.265840",
     "status": "completed"
    },
    "tags": []
   },
   "source": [
    "# Shifting For All Data"
   ]
  },
  {
   "cell_type": "code",
   "execution_count": 15,
   "id": "af4bd987",
   "metadata": {
    "execution": {
     "iopub.execute_input": "2023-05-18T00:02:23.296039Z",
     "iopub.status.busy": "2023-05-18T00:02:23.295101Z",
     "iopub.status.idle": "2023-05-18T00:02:23.302478Z",
     "shell.execute_reply": "2023-05-18T00:02:23.300951Z"
    },
    "papermill": {
     "duration": 0.021794,
     "end_time": "2023-05-18T00:02:23.305144",
     "exception": false,
     "start_time": "2023-05-18T00:02:23.283350",
     "status": "completed"
    },
    "tags": []
   },
   "outputs": [],
   "source": [
    "def calculate_predicitons_protein(protein, pred_month, protein_shift):\n",
    "    trend_pred_month = target_to_trend[target]\n",
    "    pred_month_trend = calculate_predictions(pred_month=pred_month, trend=trend_pred_month, target=target)\n",
    "    return np.round(pred_month_trend + protein_shift)"
   ]
  },
  {
   "cell_type": "markdown",
   "id": "f3dce837",
   "metadata": {
    "papermill": {
     "duration": 0.00856,
     "end_time": "2023-05-18T00:02:23.323214",
     "exception": false,
     "start_time": "2023-05-18T00:02:23.314654",
     "status": "completed"
    },
    "tags": []
   },
   "source": [
    "# Inference"
   ]
  },
  {
   "cell_type": "code",
   "execution_count": 16,
   "id": "1ba12899",
   "metadata": {
    "execution": {
     "iopub.execute_input": "2023-05-18T00:02:23.343908Z",
     "iopub.status.busy": "2023-05-18T00:02:23.343478Z",
     "iopub.status.idle": "2023-05-18T00:02:36.179611Z",
     "shell.execute_reply": "2023-05-18T00:02:36.178497Z"
    },
    "papermill": {
     "duration": 12.849815,
     "end_time": "2023-05-18T00:02:36.182507",
     "exception": false,
     "start_time": "2023-05-18T00:02:23.332692",
     "status": "completed"
    },
    "tags": []
   },
   "outputs": [
    {
     "name": "stdout",
     "output_type": "stream",
     "text": [
      "This version of the API is not optimized and should not be used to estimate the runtime of your code on the hidden test set.\n"
     ]
    }
   ],
   "source": [
    "import amp_pd_peptide_310\n",
    "amp_pd_peptide_310.make_env.func_dict['__called__'] = False\n",
    "env = amp_pd_peptide_310.make_env()   # initialize the environment\n",
    "iter_test = env.iter_test()    # an iterator which loops over the test files\n",
    "\n",
    "proteins_features_all = pd.DataFrame()\n",
    "\n",
    "# The API will deliver four dataframes in this specific order:\n",
    "for test_clinical_data, test_peptides, test_proteins, sample_submission in iter_test:\n",
    "    sample_submission['patient_id'] = sample_submission['prediction_id'].map(lambda x: int(x.split('_')[0]))\n",
    "    sample_submission['visit_month'] = sample_submission['prediction_id'].map(lambda x: int(x.split('_')[1]))\n",
    "    sample_submission['target_name'] = sample_submission['prediction_id'].map(lambda x: 'updrs_' + x.split('_')[3])\n",
    "    sample_submission['plus_month'] = sample_submission['prediction_id'].map(lambda x: int(x.split('_')[5]))\n",
    "    sample_submission['pred_month'] = sample_submission['visit_month'] + sample_submission['plus_month']\n",
    "    sample_submission['visit_id'] = sample_submission['patient_id'].astype(str) + '_' + sample_submission['visit_month'].astype(str)\n",
    "    \n",
    "    proteins_features = pd.pivot_table(test_proteins, values='NPX', index='visit_id', columns='UniProt', aggfunc='sum')\n",
    "    proteins_features['visit_id'] = proteins_features.index\n",
    "    proteins_features_all = pd.concat([proteins_features_all, proteins_features])\n",
    "    proteins_features_all['patient_id'] = proteins_features_all.index.map(lambda x: int(x.split('_')[0]))\n",
    "    proteins_features_all[proteins_features.columns] = proteins_features_all.groupby('patient_id')[proteins_features.columns].\\\n",
    "                                                                                                   fillna(proteins_features_all.groupby('patient_id')[proteins_features.columns].transform('mean'))\n",
    "    proteins_features = proteins_features_all.groupby('patient_id', as_index=False).last()\n",
    "    \n",
    "    sample_submission = sample_submission.merge(\n",
    "        proteins_features,\n",
    "        on='patient_id',\n",
    "        how='left'\n",
    "    )\n",
    "\n",
    "    for i in range(1, 5):\n",
    "        \n",
    "        target_to_trend = {'updrs_1': [6.870713324069481, 2.064017287846742e-11],\n",
    "                           'updrs_2': [7.2605144568170275, 0.005820570100281764],\n",
    "                           'updrs_3': [19.429459027194152, 0.14400963598833913],\n",
    "                           'updrs_4': [3.5531891360188255e-11, 0.0070438433277029925]}\n",
    "        \n",
    "        \n",
    "        # Model Predictions\n",
    "        target = f'updrs_{i}'\n",
    "        mask_target = sample_submission['target_name'] == target\n",
    "        sample_submission.loc[mask_target, 'rating'] = calculate_predictions(\n",
    "            pred_month=sample_submission.loc[mask_target, 'pred_month'],\n",
    "            trend=target_to_trend[target],\n",
    "            target = target\n",
    "        )\n",
    "        \n",
    "            \n",
    "        # The Shifting\n",
    "        weight = 21\n",
    "        for feature in ['Q9UNU6','P54289','P16152','P14174','P08133','P01877','P01608',\n",
    "                        'P00736','P01031','P01717','P01833','P01861','P02652','P02679',\n",
    "                        'P02749','P02765','P02766','P04433','P05408','P08133','P20933']:\n",
    "            try:\n",
    "                target_to_trend = {}\n",
    "                target_to_trend[target] = trend\n",
    "                target_to_npx_groups_shift = get_shifts(train_clinical)\n",
    "                for item in target_to_npx_groups_shift[target]:\n",
    "                    feature = item['feature']\n",
    "                    mask_feature_range = mask_target & (\n",
    "                        (sample_submission[feature] >= item['quantile_low_value'])\n",
    "                        & (sample_submission[feature] < item['quantile_high_value'])\n",
    "                    )\n",
    "                    sample_submission.loc[mask_feature_range, 'rating'] += item['shift'] / weight\n",
    "            except:\n",
    "                weight -= 1\n",
    "                continue\n",
    "        sample_submission.loc[mask_target, 'rating'] = np.round(sample_submission.loc[mask_target, 'rating'])\n",
    "        \n",
    "    # call env.predict for every iteration\n",
    "    env.predict(sample_submission[['prediction_id', 'rating']])"
   ]
  },
  {
   "cell_type": "code",
   "execution_count": 17,
   "id": "5d2dcd6b",
   "metadata": {
    "execution": {
     "iopub.execute_input": "2023-05-18T00:02:36.202945Z",
     "iopub.status.busy": "2023-05-18T00:02:36.202505Z",
     "iopub.status.idle": "2023-05-18T00:02:36.237196Z",
     "shell.execute_reply": "2023-05-18T00:02:36.235838Z"
    },
    "papermill": {
     "duration": 0.0482,
     "end_time": "2023-05-18T00:02:36.240337",
     "exception": false,
     "start_time": "2023-05-18T00:02:36.192137",
     "status": "completed"
    },
    "tags": []
   },
   "outputs": [
    {
     "data": {
      "text/html": [
       "<div>\n",
       "<style scoped>\n",
       "    .dataframe tbody tr th:only-of-type {\n",
       "        vertical-align: middle;\n",
       "    }\n",
       "\n",
       "    .dataframe tbody tr th {\n",
       "        vertical-align: top;\n",
       "    }\n",
       "\n",
       "    .dataframe thead th {\n",
       "        text-align: right;\n",
       "    }\n",
       "</style>\n",
       "<table border=\"1\" class=\"dataframe\">\n",
       "  <thead>\n",
       "    <tr style=\"text-align: right;\">\n",
       "      <th></th>\n",
       "      <th>prediction_id</th>\n",
       "      <th>rating</th>\n",
       "    </tr>\n",
       "  </thead>\n",
       "  <tbody>\n",
       "    <tr>\n",
       "      <th>0</th>\n",
       "      <td>3342_6_updrs_1_plus_0_months</td>\n",
       "      <td>6.0</td>\n",
       "    </tr>\n",
       "    <tr>\n",
       "      <th>1</th>\n",
       "      <td>3342_6_updrs_1_plus_6_months</td>\n",
       "      <td>6.0</td>\n",
       "    </tr>\n",
       "    <tr>\n",
       "      <th>2</th>\n",
       "      <td>3342_6_updrs_1_plus_12_months</td>\n",
       "      <td>6.0</td>\n",
       "    </tr>\n",
       "    <tr>\n",
       "      <th>3</th>\n",
       "      <td>3342_6_updrs_1_plus_24_months</td>\n",
       "      <td>6.0</td>\n",
       "    </tr>\n",
       "    <tr>\n",
       "      <th>4</th>\n",
       "      <td>3342_6_updrs_2_plus_0_months</td>\n",
       "      <td>7.0</td>\n",
       "    </tr>\n",
       "    <tr>\n",
       "      <th>5</th>\n",
       "      <td>3342_6_updrs_2_plus_6_months</td>\n",
       "      <td>7.0</td>\n",
       "    </tr>\n",
       "    <tr>\n",
       "      <th>6</th>\n",
       "      <td>3342_6_updrs_2_plus_12_months</td>\n",
       "      <td>7.0</td>\n",
       "    </tr>\n",
       "    <tr>\n",
       "      <th>7</th>\n",
       "      <td>3342_6_updrs_2_plus_24_months</td>\n",
       "      <td>7.0</td>\n",
       "    </tr>\n",
       "    <tr>\n",
       "      <th>8</th>\n",
       "      <td>3342_6_updrs_3_plus_0_months</td>\n",
       "      <td>20.0</td>\n",
       "    </tr>\n",
       "    <tr>\n",
       "      <th>9</th>\n",
       "      <td>3342_6_updrs_3_plus_6_months</td>\n",
       "      <td>21.0</td>\n",
       "    </tr>\n",
       "    <tr>\n",
       "      <th>10</th>\n",
       "      <td>3342_6_updrs_3_plus_12_months</td>\n",
       "      <td>22.0</td>\n",
       "    </tr>\n",
       "    <tr>\n",
       "      <th>11</th>\n",
       "      <td>3342_6_updrs_3_plus_24_months</td>\n",
       "      <td>24.0</td>\n",
       "    </tr>\n",
       "    <tr>\n",
       "      <th>12</th>\n",
       "      <td>3342_6_updrs_4_plus_0_months</td>\n",
       "      <td>0.0</td>\n",
       "    </tr>\n",
       "    <tr>\n",
       "      <th>13</th>\n",
       "      <td>3342_6_updrs_4_plus_6_months</td>\n",
       "      <td>0.0</td>\n",
       "    </tr>\n",
       "    <tr>\n",
       "      <th>14</th>\n",
       "      <td>3342_6_updrs_4_plus_12_months</td>\n",
       "      <td>0.0</td>\n",
       "    </tr>\n",
       "    <tr>\n",
       "      <th>15</th>\n",
       "      <td>3342_6_updrs_4_plus_24_months</td>\n",
       "      <td>0.0</td>\n",
       "    </tr>\n",
       "    <tr>\n",
       "      <th>16</th>\n",
       "      <td>50423_6_updrs_1_plus_0_months</td>\n",
       "      <td>5.0</td>\n",
       "    </tr>\n",
       "    <tr>\n",
       "      <th>17</th>\n",
       "      <td>50423_6_updrs_1_plus_6_months</td>\n",
       "      <td>5.0</td>\n",
       "    </tr>\n",
       "    <tr>\n",
       "      <th>18</th>\n",
       "      <td>50423_6_updrs_1_plus_12_months</td>\n",
       "      <td>5.0</td>\n",
       "    </tr>\n",
       "    <tr>\n",
       "      <th>19</th>\n",
       "      <td>50423_6_updrs_1_plus_24_months</td>\n",
       "      <td>5.0</td>\n",
       "    </tr>\n",
       "    <tr>\n",
       "      <th>20</th>\n",
       "      <td>50423_6_updrs_2_plus_0_months</td>\n",
       "      <td>7.0</td>\n",
       "    </tr>\n",
       "    <tr>\n",
       "      <th>21</th>\n",
       "      <td>50423_6_updrs_2_plus_6_months</td>\n",
       "      <td>7.0</td>\n",
       "    </tr>\n",
       "    <tr>\n",
       "      <th>22</th>\n",
       "      <td>50423_6_updrs_2_plus_12_months</td>\n",
       "      <td>7.0</td>\n",
       "    </tr>\n",
       "    <tr>\n",
       "      <th>23</th>\n",
       "      <td>50423_6_updrs_2_plus_24_months</td>\n",
       "      <td>7.0</td>\n",
       "    </tr>\n",
       "    <tr>\n",
       "      <th>24</th>\n",
       "      <td>50423_6_updrs_3_plus_0_months</td>\n",
       "      <td>20.0</td>\n",
       "    </tr>\n",
       "    <tr>\n",
       "      <th>25</th>\n",
       "      <td>50423_6_updrs_3_plus_6_months</td>\n",
       "      <td>21.0</td>\n",
       "    </tr>\n",
       "    <tr>\n",
       "      <th>26</th>\n",
       "      <td>50423_6_updrs_3_plus_12_months</td>\n",
       "      <td>22.0</td>\n",
       "    </tr>\n",
       "    <tr>\n",
       "      <th>27</th>\n",
       "      <td>50423_6_updrs_3_plus_24_months</td>\n",
       "      <td>24.0</td>\n",
       "    </tr>\n",
       "    <tr>\n",
       "      <th>28</th>\n",
       "      <td>50423_6_updrs_4_plus_0_months</td>\n",
       "      <td>0.0</td>\n",
       "    </tr>\n",
       "    <tr>\n",
       "      <th>29</th>\n",
       "      <td>50423_6_updrs_4_plus_6_months</td>\n",
       "      <td>0.0</td>\n",
       "    </tr>\n",
       "    <tr>\n",
       "      <th>30</th>\n",
       "      <td>50423_6_updrs_4_plus_12_months</td>\n",
       "      <td>0.0</td>\n",
       "    </tr>\n",
       "    <tr>\n",
       "      <th>31</th>\n",
       "      <td>50423_6_updrs_4_plus_24_months</td>\n",
       "      <td>0.0</td>\n",
       "    </tr>\n",
       "  </tbody>\n",
       "</table>\n",
       "</div>"
      ],
      "text/plain": [
       "                     prediction_id  rating\n",
       "0     3342_6_updrs_1_plus_0_months     6.0\n",
       "1     3342_6_updrs_1_plus_6_months     6.0\n",
       "2    3342_6_updrs_1_plus_12_months     6.0\n",
       "3    3342_6_updrs_1_plus_24_months     6.0\n",
       "4     3342_6_updrs_2_plus_0_months     7.0\n",
       "5     3342_6_updrs_2_plus_6_months     7.0\n",
       "6    3342_6_updrs_2_plus_12_months     7.0\n",
       "7    3342_6_updrs_2_plus_24_months     7.0\n",
       "8     3342_6_updrs_3_plus_0_months    20.0\n",
       "9     3342_6_updrs_3_plus_6_months    21.0\n",
       "10   3342_6_updrs_3_plus_12_months    22.0\n",
       "11   3342_6_updrs_3_plus_24_months    24.0\n",
       "12    3342_6_updrs_4_plus_0_months     0.0\n",
       "13    3342_6_updrs_4_plus_6_months     0.0\n",
       "14   3342_6_updrs_4_plus_12_months     0.0\n",
       "15   3342_6_updrs_4_plus_24_months     0.0\n",
       "16   50423_6_updrs_1_plus_0_months     5.0\n",
       "17   50423_6_updrs_1_plus_6_months     5.0\n",
       "18  50423_6_updrs_1_plus_12_months     5.0\n",
       "19  50423_6_updrs_1_plus_24_months     5.0\n",
       "20   50423_6_updrs_2_plus_0_months     7.0\n",
       "21   50423_6_updrs_2_plus_6_months     7.0\n",
       "22  50423_6_updrs_2_plus_12_months     7.0\n",
       "23  50423_6_updrs_2_plus_24_months     7.0\n",
       "24   50423_6_updrs_3_plus_0_months    20.0\n",
       "25   50423_6_updrs_3_plus_6_months    21.0\n",
       "26  50423_6_updrs_3_plus_12_months    22.0\n",
       "27  50423_6_updrs_3_plus_24_months    24.0\n",
       "28   50423_6_updrs_4_plus_0_months     0.0\n",
       "29   50423_6_updrs_4_plus_6_months     0.0\n",
       "30  50423_6_updrs_4_plus_12_months     0.0\n",
       "31  50423_6_updrs_4_plus_24_months     0.0"
      ]
     },
     "execution_count": 17,
     "metadata": {},
     "output_type": "execute_result"
    }
   ],
   "source": [
    "sample_submission[['prediction_id', 'rating']]"
   ]
  },
  {
   "cell_type": "code",
   "execution_count": null,
   "id": "b169e062",
   "metadata": {
    "papermill": {
     "duration": 0.009493,
     "end_time": "2023-05-18T00:02:36.259630",
     "exception": false,
     "start_time": "2023-05-18T00:02:36.250137",
     "status": "completed"
    },
    "tags": []
   },
   "outputs": [],
   "source": []
  }
 ],
 "metadata": {
  "kernelspec": {
   "display_name": "Python 3 (ipykernel)",
   "language": "python",
   "name": "python3"
  },
  "language_info": {
   "codemirror_mode": {
    "name": "ipython",
    "version": 3
   },
   "file_extension": ".py",
   "mimetype": "text/x-python",
   "name": "python",
   "nbconvert_exporter": "python",
   "pygments_lexer": "ipython3",
   "version": "3.10.6"
  },
  "papermill": {
   "default_parameters": {},
   "duration": 65.393531,
   "end_time": "2023-05-18T00:02:37.497005",
   "environment_variables": {},
   "exception": null,
   "input_path": "__notebook__.ipynb",
   "output_path": "__notebook__.ipynb",
   "parameters": {},
   "start_time": "2023-05-18T00:01:32.103474",
   "version": "2.4.0"
  }
 },
 "nbformat": 4,
 "nbformat_minor": 5
}
